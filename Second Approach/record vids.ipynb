{
 "cells": [
  {
   "cell_type": "code",
   "execution_count": 27,
   "metadata": {},
   "outputs": [
    {
     "name": "stdout",
     "output_type": "stream",
     "text": [
      "Frames per second :  30.0 FPS\n",
      "Frame count :  52.0\n"
     ]
    }
   ],
   "source": [
    "import cv2 \n",
    "\n",
    "# Create a video capture object, in this case we are reading the video from a file\n",
    "vid_capture = cv2.VideoCapture(r'D:\\final final code\\dataset\\data\\005_001_001.mp4')\n",
    "\n",
    "if (vid_capture.isOpened() == False):\n",
    "\tprint(\"Error opening the video file\")\n",
    "# Read fps and frame count\n",
    "else:\n",
    "\t# Get frame rate information\n",
    "\tfps = vid_capture.get(cv2.CAP_PROP_FPS)\n",
    "\tprint('Frames per second : ', fps,'FPS')\n",
    "\n",
    "\t# Get frame count\n",
    "\tframe_count = vid_capture.get(cv2.CAP_PROP_FRAME_COUNT)\n",
    "\tprint('Frame count : ', frame_count)\n",
    "\n",
    "while(vid_capture.isOpened()):\n",
    "\t# vid_capture.read() methods returns a tuple, first element is a bool \n",
    "\t# and the second is frame\n",
    "\tret, frame = vid_capture.read()\n",
    "\tif ret == True:\n",
    "\t\tcv2.imshow('Frame',frame)\n",
    "\t\tkey = cv2.waitKey(15)\n",
    "\t\t\n",
    "\t\tif key == ord('q'):\n",
    "\t\t\tbreak\n",
    "\telse:\n",
    "\t\tbreak\n",
    "\n",
    "# Release the video capture object\n",
    "vid_capture.release()\n",
    "cv2.destroyAllWindows()"
   ]
  },
  {
   "cell_type": "code",
   "execution_count": null,
   "metadata": {},
   "outputs": [],
   "source": []
  }
 ],
 "metadata": {
  "interpreter": {
   "hash": "7edee622b834293ee779dd8d6917a1d3a6cc56ca2a446a7f95b5883c4f6a43a7"
  },
  "kernelspec": {
   "display_name": "Python 3.9.6 64-bit (system)",
   "language": "python",
   "name": "python3"
  },
  "language_info": {
   "codemirror_mode": {
    "name": "ipython",
    "version": 3
   },
   "file_extension": ".py",
   "mimetype": "text/x-python",
   "name": "python",
   "nbconvert_exporter": "python",
   "pygments_lexer": "ipython3",
   "version": "3.9.6"
  }
 },
 "nbformat": 4,
 "nbformat_minor": 4
}
